{
 "cells": [
  {
   "attachments": {},
   "cell_type": "markdown",
   "metadata": {},
   "source": [
    "# Project 1  -->  Theater and Stadium"
   ]
  },
  {
   "cell_type": "code",
   "execution_count": 29,
   "metadata": {},
   "outputs": [
    {
     "name": "stdout",
     "output_type": "stream",
     "text": [
      "Total =  7600\n",
      "Available Recliner Seats =  0\n",
      "Available Total Seats =  130\n",
      "----------------------------------------\n",
      "Total =  7600\n",
      "Available Recliner Seats =  -20\n",
      "Available Total Seats =  110\n",
      "----------------------------------------\n",
      "Recliner Setas are not Available.\n",
      "----------------------------------------\n",
      "Recliner Setas are not Available.\n",
      "----------------------------------------\n",
      "Recliner Setas are not Available.\n",
      "----------------------------------------\n"
     ]
    }
   ],
   "source": [
    "normal_seats = 130\n",
    "recliner = 20\n",
    "total_seats = normal_seats + recliner\n",
    "\n",
    "while True:\n",
    "    choose_option = int(input(\"Enter the option\"))                                  #Choose Option Normal and Recliner.\n",
    "    seats = eval(input(\"Enter the Seats = \"))    \n",
    "    \n",
    "    #Normal and Recliner Seats Price.\n",
    "    normal_seats_price = 250\n",
    "    recliner_seats_price = 380\n",
    "    \n",
    "    #Condition for Choose Option and Seats.\n",
    "    if choose_option == 1:                                  \n",
    "        if normal_seats >= 0:\n",
    "            res = normal_seats_price * seats                                        #Total Cost of Normal Seats.\n",
    "            print(\"Total = \",res)\n",
    "                    \n",
    "            normal_seats -= seats                                                   #Available Normal Seats.\n",
    "            print(\"Available Normal Seats = \",normal_seats)\n",
    "            \n",
    "            total_seats -= seats\n",
    "            print(\"Available Total Seats = \",total_seats)\n",
    "        else:\n",
    "            print(\"Normal Setas are not Available.\")\n",
    "    elif choose_option == 2:\n",
    "        if recliner >= -0:\n",
    "            res = recliner_seats_price * seats                                      #Total Cost of Recliner Seats.\n",
    "            print(\"Total = \",res)\n",
    "                \n",
    "            recliner -= seats                                                       #Available Recliner Seats\n",
    "            print(\"Available Recliner Seats = \",recliner)\n",
    "            \n",
    "            total_seats -= seats\n",
    "            print(\"Available Total Seats = \",total_seats)\n",
    "        else:\n",
    "            print(\"Recliner Setas are not Available.\")\n",
    "    else:\n",
    "        print(\"Choose Correct option.\")\n",
    "        \n",
    "    print(\"-\"*40)\n",
    "    \n",
    "    repeat = input(\"enter the next customer = \")\n",
    "    if repeat == \"no\":\n",
    "        break"
   ]
  }
 ],
 "metadata": {
  "kernelspec": {
   "display_name": "Python 3",
   "language": "python",
   "name": "python3"
  },
  "language_info": {
   "codemirror_mode": {
    "name": "ipython",
    "version": 3
   },
   "file_extension": ".py",
   "mimetype": "text/x-python",
   "name": "python",
   "nbconvert_exporter": "python",
   "pygments_lexer": "ipython3",
   "version": "3.11.2"
  },
  "orig_nbformat": 4
 },
 "nbformat": 4,
 "nbformat_minor": 2
}
