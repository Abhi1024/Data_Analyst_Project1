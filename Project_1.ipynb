{
 "cells": [
  {
   "attachments": {},
   "cell_type": "markdown",
   "metadata": {},
   "source": [
    "# Project 1  -->  Theater and Stadium"
   ]
  },
  {
   "cell_type": "code",
   "execution_count": 8,
   "metadata": {},
   "outputs": [
    {
     "name": "stdout",
     "output_type": "stream",
     "text": [
      "Choose option\n",
      "      1 -> Normal Seats.\n",
      "      2 -> Recliner Seats.\n",
      "****************************************\n",
      "Seats Pricing.\n",
      "      Normal Seats Price. = 250\n",
      "      Recliner Seats Price. = 380\n",
      "****************************************\n",
      "Available Seats.\n",
      "      Available Normal Seats. = 130\n",
      "      Available Recliner Seats. = 20\n",
      "      Total Available Seats = 150\n",
      "****************************************\n",
      "Total =  2500\n",
      "Available Normal Seats =  120\n",
      "Available Total Seats =  140\n",
      "----------------------------------------\n"
     ]
    },
    {
     "ename": "ValueError",
     "evalue": "invalid literal for int() with base 10: ''",
     "output_type": "error",
     "traceback": [
      "\u001b[1;31m---------------------------------------------------------------------------\u001b[0m",
      "\u001b[1;31mValueError\u001b[0m                                Traceback (most recent call last)",
      "Cell \u001b[1;32mIn[8], line 20\u001b[0m\n\u001b[0;32m     17\u001b[0m total_seats \u001b[39m=\u001b[39m normal_seats \u001b[39m+\u001b[39m recliner\n\u001b[0;32m     19\u001b[0m \u001b[39mwhile\u001b[39;00m \u001b[39mTrue\u001b[39;00m:\n\u001b[1;32m---> 20\u001b[0m     choose_option \u001b[39m=\u001b[39m \u001b[39mint\u001b[39;49m(\u001b[39minput\u001b[39;49m(\u001b[39m\"\u001b[39;49m\u001b[39mEnter the option\u001b[39;49m\u001b[39m\"\u001b[39;49m))                                  \u001b[39m#Choose Option Normal and Recliner.\u001b[39;00m\n\u001b[0;32m     21\u001b[0m     seats \u001b[39m=\u001b[39m \u001b[39meval\u001b[39m(\u001b[39minput\u001b[39m(\u001b[39m\"\u001b[39m\u001b[39mEnter the Seats = \u001b[39m\u001b[39m\"\u001b[39m))    \n\u001b[0;32m     23\u001b[0m     \u001b[39m#Normal and Recliner Seats Price.\u001b[39;00m\n",
      "\u001b[1;31mValueError\u001b[0m: invalid literal for int() with base 10: ''"
     ]
    }
   ],
   "source": [
    "print(\"\"\"Choose option\n",
    "      1 -> Normal Seats.\n",
    "      2 -> Recliner Seats.\"\"\")\n",
    "print(\"*\"*40)\n",
    "print(\"\"\"Seats Pricing.\n",
    "      Normal Seats Price. = 250\n",
    "      Recliner Seats Price. = 380\"\"\")\n",
    "print(\"*\"*40)\n",
    "print(\"\"\"Available Seats.\n",
    "      Available Normal Seats. = 130\n",
    "      Available Recliner Seats. = 20\n",
    "      Total Available Seats = 150\"\"\")\n",
    "print(\"*\"*40)\n",
    "\n",
    "normal_seats = 130\n",
    "recliner = 20\n",
    "total_seats = normal_seats + recliner\n",
    "\n",
    "while True:\n",
    "    choose_option = int(input(\"Enter the option\"))                                  #Choose Option Normal and Recliner.\n",
    "    seats = eval(input(\"Enter the Seats = \"))    \n",
    "    \n",
    "    #Normal and Recliner Seats Price.\n",
    "    normal_seats_price = 250\n",
    "    recliner_seats_price = 380\n",
    "    \n",
    "    #Condition for Choose Option and Seats.\n",
    "    if choose_option == 1:                                  \n",
    "        if normal_seats >= 0:\n",
    "            res = normal_seats_price * seats                                        #Total Cost of Normal Seats.\n",
    "            print(\"Total = \",res)\n",
    "                    \n",
    "            normal_seats -= seats                                                   #Available Normal Seats.\n",
    "            print(\"Available Normal Seats = \",normal_seats)\n",
    "            \n",
    "            total_seats -= seats\n",
    "            print(\"Available Total Seats = \",total_seats)\n",
    "        else:\n",
    "            print(\"Normal Setas are not Available.\")\n",
    "    elif choose_option == 2:\n",
    "        if recliner >= -0:\n",
    "            res = recliner_seats_price * seats                                      #Total Cost of Recliner Seats.\n",
    "            print(\"Total = \",res)\n",
    "                \n",
    "            recliner -= seats                                                       #Available Recliner Seats\n",
    "            print(\"Available Recliner Seats = \",recliner)\n",
    "            \n",
    "            total_seats -= seats\n",
    "            print(\"Available Total Seats = \",total_seats)\n",
    "        else:\n",
    "            print(\"Recliner Setas are not Available.\")\n",
    "    else:\n",
    "        print(\"Choose Correct option.\")\n",
    "        \n",
    "    print(\"-\"*40)\n",
    "    \n",
    "    repeat = input(\"enter the next customer = \")\n",
    "    if repeat == \"no\":\n",
    "        break"
   ]
  }
 ],
 "metadata": {
  "kernelspec": {
   "display_name": "Python 3",
   "language": "python",
   "name": "python3"
  },
  "language_info": {
   "codemirror_mode": {
    "name": "ipython",
    "version": 3
   },
   "file_extension": ".py",
   "mimetype": "text/x-python",
   "name": "python",
   "nbconvert_exporter": "python",
   "pygments_lexer": "ipython3",
   "version": "3.11.2"
  },
  "orig_nbformat": 4
 },
 "nbformat": 4,
 "nbformat_minor": 2
}
